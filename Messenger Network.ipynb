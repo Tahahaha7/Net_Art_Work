{
 "cells": [
  {
   "cell_type": "markdown",
   "metadata": {},
   "source": [
    "# $$\\text{Minerva Schools Class of 2021}$$ \n",
    "## $$\\text{Messenger Group Chat}$$"
   ]
  },
  {
   "cell_type": "markdown",
   "metadata": {},
   "source": [
    "The project serves as a basis for analyzing social network dynamics on real-world data extracted from the Facebook group chat of the Minerva class of 2021. The cohort has over 192 students representing over 100 countries which provides a perfect setting for analyzing the evolution of social interactions since the creation of the group in September 2017 until the end of junior year (May 2020). Over the mentioned time period, we produced 60,000 text with roughly 542,960 words and 21457 reactions."
   ]
  },
  {
   "cell_type": "code",
   "execution_count": 6,
   "metadata": {},
   "outputs": [],
   "source": [
    "# Importing necessary packages\n",
    "\n",
    "import json\n",
    "import numpy as np\n",
    "import pandas as pd\n",
    "from datetime import datetime\n",
    "from collections import Counter\n",
    "from itertools import chain"
   ]
  },
  {
   "cell_type": "code",
   "execution_count": 3,
   "metadata": {},
   "outputs": [
    {
     "name": "stdout",
     "output_type": "stream",
     "text": [
      "\n",
      "Number of messages: 62208\n",
      "\n",
      "The number of people in the chat: 194 \n",
      "\n"
     ]
    }
   ],
   "source": [
    "# Loading the data\n",
    "data = []\n",
    "for i in range(1, 8):\n",
    "    with open('C:/Users/Taha/Desktop/m21_facebook/message_'+str(i)+'.json')\\\n",
    "    as data_temp: data_temp = json.load(data_temp, encoding='UTF-32')\n",
    "    data += data_temp['messages']\n",
    "print('\\nNumber of messages:', len(data))\n",
    "\n",
    "# Format timestamp (Time in UTC)\n",
    "def time_format(timestamp): \n",
    "    return datetime.utcfromtimestamp(timestamp/1000).strftime('%Y-%m-%d %H:%M:%S')\n",
    "for i in data: i['timestamp_ms'] = time_format(i['timestamp_ms'])\n",
    "\n",
    "# Participants' names\n",
    "student_names = [data_temp['participants'][i].get('name') for i in range(len(data_temp['participants']))]\n",
    "print('\\nThe number of people in the chat:', len(student_names),'\\n')"
   ]
  },
  {
   "cell_type": "code",
   "execution_count": 4,
   "metadata": {},
   "outputs": [
    {
     "name": "stdout",
     "output_type": "stream",
     "text": [
      "\n",
      "Number of reactions: 21457 \n",
      "Number of uniques: 9\n",
      "\n",
      "\n",
      "Number of unique pairs:  13461 \n",
      "Number of interactions:  55681 \n",
      "\n"
     ]
    }
   ],
   "source": [
    "# Reaction encoding and decoding\n",
    "\n",
    "reaction_codes, reaction_actors = [], []\n",
    "for i in data: \n",
    "    if 'reactions' in i: reaction_codes.append([j['reaction'] for j in i['reactions']])\n",
    "\n",
    "reactions = np.array(sum(reaction_codes, []))\n",
    "encoding = {'ð\\x9f\\x98®':'wow', 'ð\\x9f\\x98\\x8d':'heart_eyes', \n",
    "            'ð\\x9f\\x91\\x8e':'thumbs_down', 'ð\\x9f\\x98\\x86':'laugh',\n",
    "            'ð\\x9f\\x91\\x8d':'thumbs_up', 'ð\\x9f\\x98¢':'cry', 'â\\x9d¤':'heart',\n",
    "            'ð\\x9f\\x8f\\x86':'trophy', 'ð\\x9f\\x98\\xa0':'angry'}\n",
    "\n",
    "print('\\nNumber of reactions:', len(reaction_codes), '\\nNumber of uniques:', len(np.unique(reactions)))\n",
    "\n",
    "# Decoding the reactions for all messages\n",
    "for i in data: \n",
    "    if 'reactions' in i: \n",
    "        for j in i['reactions']: j['reaction'] = encoding.get(j['reaction'])\n",
    "\n",
    "for i in data:\n",
    "    if 'reactions' in i: reaction_actors.append([(j['actor'], i['sender_name']) for j in i['reactions']])\n",
    "reaction_actors = sum(reaction_actors, [])\n",
    "\n",
    "print('\\n\\nNumber of unique pairs: ', len(set(reaction_actors)), \n",
    "      '\\nNumber of interactions: ', len(reaction_actors),'\\n')"
   ]
  },
  {
   "cell_type": "code",
   "execution_count": 7,
   "metadata": {},
   "outputs": [],
   "source": [
    "react_dict = Counter(chain(reaction_actors))\n",
    "final_data = pd.DataFrame(list(react_dict.keys()), columns=['sender', 'reactor'])\n",
    "final_data['n_interactions'] = react_dict.values()"
   ]
  },
  {
   "cell_type": "code",
   "execution_count": 20,
   "metadata": {},
   "outputs": [
    {
     "name": "stdout",
     "output_type": "stream",
     "text": [
      "Name: \n",
      "Type: DiGraph\n",
      "Number of nodes: 210\n",
      "Number of edges: 13461\n",
      "Average in degree:  64.1000\n",
      "Average out degree:  64.1000\n"
     ]
    }
   ],
   "source": [
    "import networkx as nx\n",
    "graph = nx.DiGraph()\n",
    "graph.add_edges_from(sorted(react_dict.keys()))\n",
    "print(nx.info(graph))\n",
    "\n",
    "total_reacts = []\n",
    "for i in student_names:\n",
    "    total_reacts.append([i, sum(final_data[final_data.reactor==i].n_interactions)])\n",
    "total_reacts = dict(total_reacts)\n",
    "\n",
    "def get_react(name):\n",
    "    if type(total_reacts.get(name)) == type(None): return 0\n",
    "    else: return total_reacts.get(name)\n",
    "    \n",
    "    \n",
    "for idx, edge in enumerate(graph.edges):\n",
    "    graph.edges[edge]['value'] = int(sorted(react_dict.values())[idx]/(1+get_react(edge[0]) + get_react(edge[1])))\n",
    "\n",
    "for idx, node in enumerate(graph.nodes):\n",
    "    graph.nodes[node]['size'] = [i[1] for i in dict(graph.degree).items()][idx]"
   ]
  },
  {
   "cell_type": "code",
   "execution_count": 35,
   "metadata": {},
   "outputs": [],
   "source": [
    "# Interactive network\n",
    "\n",
    "from pyvis.network import Network\n",
    "G = Network(height=\"800px\", width=\"100%\", notebook=False, bgcolor=\"#222222\", font_color=\"white\")\n",
    "G.toggle_hide_edges_on_drag(False)\n",
    "G.barnes_hut()\n",
    "\n",
    "size = [i[1] for i in sorted(dict(graph.degree).items())]\n",
    "for idx,i in enumerate(sorted(dict(graph.degree).keys())):\n",
    "    G.add_node(i, value=size[idx], label=' ', title=i)\n",
    "\n",
    "for source,target,edge_attrs in graph.edges(data=True):\n",
    "    G.add_edge(source, target, **edge_attrs)\n",
    "    \n",
    "    \n",
    "#G.add_edges(graph.edges)\n",
    "#G.show_buttons(filter_=True)\n",
    "\n",
    "\n",
    "G.set_options('''\n",
    "var options = {\n",
    "  \"nodes\": {\n",
    "    \"borderWidth\": 0,\n",
    "    \"borderWidthSelected\": 1,\n",
    "    \"shadow\": {\n",
    "      \"enabled\": true\n",
    "    },\n",
    "    \"color\": {\n",
    "      \"highlight\": {\n",
    "        \"border\": \"rgba(233,33,28,1)\",\n",
    "        \"background\": \"rgba(255,94,100,1)\"\n",
    "      }\n",
    "    }\n",
    "    \n",
    "  },\n",
    "  \"edges\": {\n",
    "    \"color\": {\n",
    "      \"highlight\": \"rgba(216,83,84,1)\",\n",
    "      \"inherit\": true\n",
    "    },\n",
    "    \"shadow\": {\n",
    "      \"enabled\": true\n",
    "    },\n",
    "    \"smooth\": {\n",
    "      \"type\": \"cubicBezier\",\n",
    "      \"forceDirection\": \"none\"\n",
    "    },\n",
    "    \"width\": 0\n",
    "  },\n",
    "  \"interaction\": {\n",
    "    \"multiselect\": true\n",
    "  },\n",
    "  \"physics\": {\n",
    "    \"barnesHut\": {\n",
    "      \"gravitationalConstant\": -80000,\n",
    "      \"springLength\": 250,\n",
    "      \"springConstant\": 0.001\n",
    "    },\n",
    "    \"minVelocity\": 0.75\n",
    "  }\n",
    "}\n",
    "''')\n",
    "G.show('messenger_network.html')"
   ]
  }
 ],
 "metadata": {
  "kernelspec": {
   "display_name": "Python 3",
   "language": "python",
   "name": "python3"
  },
  "language_info": {
   "codemirror_mode": {
    "name": "ipython",
    "version": 3
   },
   "file_extension": ".py",
   "mimetype": "text/x-python",
   "name": "python",
   "nbconvert_exporter": "python",
   "pygments_lexer": "ipython3",
   "version": "3.7.6"
  }
 },
 "nbformat": 4,
 "nbformat_minor": 4
}
