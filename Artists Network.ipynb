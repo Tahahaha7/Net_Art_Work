{
 "cells": [
  {
   "cell_type": "markdown",
   "metadata": {},
   "source": [
    "# $$\\text{ARTIST NETWORK}$$"
   ]
  },
  {
   "cell_type": "code",
   "execution_count": 235,
   "metadata": {},
   "outputs": [],
   "source": [
    "import spotipy\n",
    "import numpy as np\n",
    "import pandas as pd\n",
    "import networkx as nx\n",
    "import seaborn as sns\n",
    "import matplotlib.pyplot as plt\n",
    "from pyvis.network import Network\n",
    "\n",
    "%matplotlib inline"
   ]
  },
  {
   "cell_type": "markdown",
   "metadata": {},
   "source": [
    "## Network of top artists\n",
    "The list of top artists that a user listened to are compiled into a network\n",
    "- Each artist seem to have 30 related artists (edges)\n",
    "- The total number of edges in the network is roughly 1000\n",
    "- You might be able to see the artist that your listening is centered around"
   ]
  },
  {
   "cell_type": "code",
   "execution_count": 236,
   "metadata": {},
   "outputs": [],
   "source": [
    "username = '2273exo4mylzm3zcnbcgw76xa'\n",
    "scope = 'user-library-read user-top-read user-follow-read app-remote-control streaming'\n",
    "client_id = 'b2e1883e5add45d4bb51814bf69fc387'\n",
    "client_secret = 'a834408986044bba8a41539f40dcef47'\n",
    "redict_uri = 'http://localhost:8888/callback'\n",
    "\n",
    "import requests\n",
    "from spotipy import util"
   ]
  },
  {
   "cell_type": "code",
   "execution_count": 237,
   "metadata": {},
   "outputs": [],
   "source": [
    "tk = util.prompt_for_user_token(username, scope, client_id, client_secret, redict_uri)"
   ]
  },
  {
   "cell_type": "code",
   "execution_count": 238,
   "metadata": {},
   "outputs": [],
   "source": [
    "sp = spotipy.Spotify(auth=tk)"
   ]
  },
  {
   "cell_type": "code",
   "execution_count": 239,
   "metadata": {},
   "outputs": [],
   "source": [
    "auth = {\"Authorization\": \"Bearer {}\".format(tk)}\n",
    "\n",
    "SPOTIFY_API_BASE_URL = \"https://api.spotify.com\"\n",
    "API_VERSION = \"v1\"\n",
    "SPOTIFY_API_URL = \"{}/{}\".format(SPOTIFY_API_BASE_URL, API_VERSION)\n",
    "USER_PROFILE_ENDPOINT = \"{}/{}\".format(SPOTIFY_API_URL, 'me')\n",
    "USER_TOP_ARTISTS_ENDPOINT = \"{}/{}\".format(USER_PROFILE_ENDPOINT, 'top')\n",
    "\n",
    "def user_top_artists(auth_header, time_range, limit):\n",
    "    url = '{}/top/artists?time_range={}&limit={}'.format(USER_PROFILE_ENDPOINT, time_range, limit)\n",
    "    resp = requests.get(url, headers=auth_header)\n",
    "    return resp.json()\n",
    "\n",
    "def artist_related_artists(auth_header, artist_id):\n",
    "    url = '{}/artists/{}/related-artists'.format(SPOTIFY_API_URL, artist_id)\n",
    "    resp = requests.get(url, headers=auth_header)\n",
    "    return resp.json()\n",
    "\n",
    "artists_long = pd.json_normalize(user_top_artists(auth,'long_term', 30)['items'])\n",
    "artists_medium = pd.json_normalize(user_top_artists(auth,'medium_term', 30)['items'])\n",
    "artists_short = pd.json_normalize(user_top_artists(auth,'short_term', 30)['items'])\n",
    "\n",
    "artists_fusion = pd.concat([artists_long, artists_medium, artists_short])\n",
    "network_lists, edges = [artists_fusion], []"
   ]
  },
  {
   "cell_type": "code",
   "execution_count": 240,
   "metadata": {
    "scrolled": false
   },
   "outputs": [],
   "source": [
    "for i in range(len(artists_fusion)):\n",
    "    temp = []\n",
    "    related_artists = pd.json_normalize(artist_related_artists(auth, artists_fusion.iloc[i]['id'])['artists'])[:20]\n",
    "    for j in range(len(related_artists)):\n",
    "        if related_artists.iloc[j]['name'].isnumeric(): continue\n",
    "        else: temp.append((artists_fusion.iloc[i]['name'], related_artists.iloc[j]['name']))\n",
    "    network_lists.append(related_artists)\n",
    "    edges.append(temp)\n",
    "    \n",
    "network = pd.concat(network_lists).drop_duplicates(subset=['id']).reset_index(drop=True)\n",
    "network = network.sort_values(by=['name'])"
   ]
  },
  {
   "cell_type": "code",
   "execution_count": 177,
   "metadata": {},
   "outputs": [],
   "source": [
    "network = network[network.name.isin([name for name in network.name if not name.isnumeric()])]\n",
    "network = network.drop_duplicates(subset=['name'])\n",
    "network.reset_index(drop=True, inplace=True)"
   ]
  },
  {
   "cell_type": "code",
   "execution_count": 194,
   "metadata": {},
   "outputs": [],
   "source": [
    "images = []\n",
    "for i in range (len(network)):\n",
    "    try: images.append(network.iloc[i]['images'][2]['url'])\n",
    "    except: images.append(None)"
   ]
  },
  {
   "cell_type": "code",
   "execution_count": 251,
   "metadata": {},
   "outputs": [],
   "source": [
    "pd.DataFrame(graph_edges).to_csv('edges.csv', index=False)"
   ]
  },
  {
   "cell_type": "code",
   "execution_count": 215,
   "metadata": {},
   "outputs": [],
   "source": [
    "graph_edges = sum(edges, [])\n",
    "graph = nx.Graph()\n",
    "graph.add_edges_from(graph_edges)\n",
    "size = [i[1] for i in sorted(dict(graph.degree).items())]\n",
    "g = Network(height=\"100%\", width=\"100%\", notebook=False)\n",
    "g.inherit_edge_colors(True)\n",
    "nodes = [i[0] for i in sorted(dict(graph.degree).items())] \n",
    "g.barnes_hut()\n",
    "\n",
    "for idx,i in enumerate(nodes):\n",
    "    g.add_node(i, value=size[idx], label=' ', title=i, shape='circularImage', image=images[idx])\n",
    "    \n",
    "g.add_edges(graph.edges)\n",
    "#g.show_buttons(filter_=True)\n",
    "\n",
    "g.set_options('''\n",
    "var options = {\n",
    "  \"nodes\": {\n",
    "    \"shape\": \"diamond\",\n",
    "    \"shadow\": {\n",
    "      \"enabled\": true\n",
    "    },\n",
    "    \"size\": 200\n",
    "  },\n",
    "  \"color\": {\n",
    "      \"highlight\": {\n",
    "        \"border\": \"rgba(233,33,28,1)\",\n",
    "        \"background\": \"rgba(255,94,100,1)\"\n",
    "      }\n",
    "    },\n",
    "  \"edges\": {\n",
    "    \"color\": {\n",
    "      \"highlight\": \"rgba(216,83,84,1)\",\n",
    "      \"inherit\": true,\n",
    "      \"opacity\": 0.25\n",
    "    },\n",
    "    \"shadow\": {\n",
    "      \"enabled\": true\n",
    "    },\n",
    "    \"smooth\": {\n",
    "      \"type\": \"continuous\",\n",
    "      \"forceDirection\": \"none\"\n",
    "    }\n",
    "  },\n",
    "  \"physics\": {\n",
    "    \"forceAtlas2Based\": {\n",
    "      \"springLength\": 100\n",
    "    },\n",
    "    \"minVelocity\": 0.75,\n",
    "    \"solver\": \"forceAtlas2Based\"\n",
    "  }\n",
    "}\n",
    "''')"
   ]
  },
  {
   "cell_type": "code",
   "execution_count": 234,
   "metadata": {},
   "outputs": [],
   "source": [
    "g.show('network.html')"
   ]
  },
  {
   "cell_type": "code",
   "execution_count": 233,
   "metadata": {},
   "outputs": [
    {
     "data": {
      "text/html": [
       "<div>\n",
       "<style scoped>\n",
       "    .dataframe tbody tr th:only-of-type {\n",
       "        vertical-align: middle;\n",
       "    }\n",
       "\n",
       "    .dataframe tbody tr th {\n",
       "        vertical-align: top;\n",
       "    }\n",
       "\n",
       "    .dataframe thead th {\n",
       "        text-align: right;\n",
       "    }\n",
       "</style>\n",
       "<table border=\"1\" class=\"dataframe\">\n",
       "  <thead>\n",
       "    <tr style=\"text-align: right;\">\n",
       "      <th></th>\n",
       "      <th>Artist</th>\n",
       "      <th>Connections</th>\n",
       "    </tr>\n",
       "  </thead>\n",
       "  <tbody>\n",
       "    <tr>\n",
       "      <th>536</th>\n",
       "      <td>Nass El Ghiwane</td>\n",
       "      <td>6</td>\n",
       "    </tr>\n",
       "    <tr>\n",
       "      <th>600</th>\n",
       "      <td>Raïna Raï</td>\n",
       "      <td>5</td>\n",
       "    </tr>\n",
       "    <tr>\n",
       "      <th>590</th>\n",
       "      <td>Quavo</td>\n",
       "      <td>5</td>\n",
       "    </tr>\n",
       "    <tr>\n",
       "      <th>670</th>\n",
       "      <td>Soprano</td>\n",
       "      <td>4</td>\n",
       "    </tr>\n",
       "    <tr>\n",
       "      <th>493</th>\n",
       "      <td>Medine</td>\n",
       "      <td>4</td>\n",
       "    </tr>\n",
       "    <tr>\n",
       "      <th>433</th>\n",
       "      <td>Lil Uzi Vert</td>\n",
       "      <td>4</td>\n",
       "    </tr>\n",
       "    <tr>\n",
       "      <th>279</th>\n",
       "      <td>Gradur</td>\n",
       "      <td>4</td>\n",
       "    </tr>\n",
       "    <tr>\n",
       "      <th>87</th>\n",
       "      <td>Bigflo &amp; Oli</td>\n",
       "      <td>4</td>\n",
       "    </tr>\n",
       "    <tr>\n",
       "      <th>781</th>\n",
       "      <td>Young Thug</td>\n",
       "      <td>4</td>\n",
       "    </tr>\n",
       "    <tr>\n",
       "      <th>240</th>\n",
       "      <td>Faudel</td>\n",
       "      <td>4</td>\n",
       "    </tr>\n",
       "    <tr>\n",
       "      <th>385</th>\n",
       "      <td>Kendrick Lamar</td>\n",
       "      <td>4</td>\n",
       "    </tr>\n",
       "    <tr>\n",
       "      <th>93</th>\n",
       "      <td>Black M</td>\n",
       "      <td>4</td>\n",
       "    </tr>\n",
       "    <tr>\n",
       "      <th>789</th>\n",
       "      <td>Zahouania</td>\n",
       "      <td>4</td>\n",
       "    </tr>\n",
       "    <tr>\n",
       "      <th>191</th>\n",
       "      <td>Diam's</td>\n",
       "      <td>4</td>\n",
       "    </tr>\n",
       "    <tr>\n",
       "      <th>650</th>\n",
       "      <td>Siboy</td>\n",
       "      <td>4</td>\n",
       "    </tr>\n",
       "    <tr>\n",
       "      <th>315</th>\n",
       "      <td>Huncho Jack</td>\n",
       "      <td>4</td>\n",
       "    </tr>\n",
       "    <tr>\n",
       "      <th>135</th>\n",
       "      <td>Cheb Mami</td>\n",
       "      <td>4</td>\n",
       "    </tr>\n",
       "    <tr>\n",
       "      <th>130</th>\n",
       "      <td>Cheb Bilal</td>\n",
       "      <td>4</td>\n",
       "    </tr>\n",
       "    <tr>\n",
       "      <th>531</th>\n",
       "      <td>NAV</td>\n",
       "      <td>4</td>\n",
       "    </tr>\n",
       "    <tr>\n",
       "      <th>657</th>\n",
       "      <td>Slimane</td>\n",
       "      <td>3</td>\n",
       "    </tr>\n",
       "  </tbody>\n",
       "</table>\n",
       "</div>"
      ],
      "text/plain": [
       "              Artist  Connections\n",
       "536  Nass El Ghiwane            6\n",
       "600        Raïna Raï            5\n",
       "590            Quavo            5\n",
       "670          Soprano            4\n",
       "493           Medine            4\n",
       "433     Lil Uzi Vert            4\n",
       "279           Gradur            4\n",
       "87      Bigflo & Oli            4\n",
       "781       Young Thug            4\n",
       "240           Faudel            4\n",
       "385   Kendrick Lamar            4\n",
       "93           Black M            4\n",
       "789        Zahouania            4\n",
       "191           Diam's            4\n",
       "650            Siboy            4\n",
       "315      Huncho Jack            4\n",
       "135        Cheb Mami            4\n",
       "130       Cheb Bilal            4\n",
       "531              NAV            4\n",
       "657          Slimane            3"
      ]
     },
     "execution_count": 233,
     "metadata": {},
     "output_type": "execute_result"
    }
   ],
   "source": [
    "ranking = pd.DataFrame([i for i in sorted(dict(graph.degree).items())], columns=['Artist', 'Connections'])\n",
    "ranking[~ranking['Artist'].isin(list(set(artists_fusion.name)))].sort_values(by='Connections', ascending=False).head(20)"
   ]
  },
  {
   "cell_type": "markdown",
   "metadata": {},
   "source": [
    "# Other section"
   ]
  },
  {
   "cell_type": "code",
   "execution_count": null,
   "metadata": {},
   "outputs": [],
   "source": [
    "'''\n",
    "Remarks:\n",
    "The higher the degree of an artists the most likely that a user would like their style of music\n",
    "The idea is to cross over the artists based on the top artists that the user listened to the most\n",
    "\n",
    "\n",
    "Next step is to differentiate between the artists already in the top 50 and the once that are shared\n",
    "as similar to one or more artists from the top 50\n",
    "Most likely, there are going to be artists that the user know about but didn't make it to top 50 \n",
    "I guess we're going to bank on the idea that the user didn't explore them yet\n",
    "Or who cares! the gist is just to leave them for people to see.\n",
    "''';"
   ]
  }
 ],
 "metadata": {
  "kernelspec": {
   "display_name": "Python 3",
   "language": "python",
   "name": "python3"
  },
  "language_info": {
   "codemirror_mode": {
    "name": "ipython",
    "version": 3
   },
   "file_extension": ".py",
   "mimetype": "text/x-python",
   "name": "python",
   "nbconvert_exporter": "python",
   "pygments_lexer": "ipython3",
   "version": "3.7.6"
  }
 },
 "nbformat": 4,
 "nbformat_minor": 4
}
